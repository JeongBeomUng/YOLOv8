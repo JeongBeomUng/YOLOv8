{
 "cells": [
  {
   "cell_type": "code",
   "execution_count": 3,
   "id": "149c0242-1040-4c06-af1c-6410ab3cd122",
   "metadata": {},
   "outputs": [],
   "source": [
    "import os\n",
    "import shutil\n",
    "import json\n",
    "from PIL import Image"
   ]
  },
  {
   "cell_type": "code",
   "execution_count": null,
   "id": "286f3505-f987-42ad-aaf8-194ef5ab979e",
   "metadata": {},
   "outputs": [],
   "source": [
    "# AI hub 반려동물피부질환 반려묘 데이터셋 전처리\n",
    "# 시작 상태: /Users/jbu/Desktop/original/C_A2,C_A4,C_A6\n",
    "# original --> dataset(images,labels)\n",
    "\n",
    "original=\"/Users/jbu/Desktop/original\"\n",
    "os.makedirs(\"/Users/jbu/Desktop/dataset/images\",exist_ok=True)\n",
    "os.makedirs(\"/Users/jbu/Desktop/dataset/labels\",exist_ok=True)\n",
    "\n",
    "A_list=sorted(os.listdir(original)) \n",
    "for A in A_list:\n",
    "    if not A=='.DS_Store':\n",
    "        path=original+'/'+A\n",
    "        for name in os.listdir(path):\n",
    "            if 'jpg' in name:\n",
    "                shutil.copyfile(path+'/'+name,\"/Users/jbu/Desktop/dataset/images/\"+name)\n",
    "            if 'json' in name:\n",
    "                shutil.copyfile(path+'/'+name,\"/Users/jbu/Desktop/dataset/labels/\"+name)    "
   ]
  },
  {
   "cell_type": "code",
   "execution_count": null,
   "id": "e99000eb-44d3-4972-bb33-2941872de715",
   "metadata": {},
   "outputs": [],
   "source": [
    "# json --> txt\n",
    "for j in sorted(os.listdir(\"/Users/jbu/Desktop/dataset/labels\")):\n",
    "    box=[]\n",
    "    with open(\"/Users/jbu/Desktop/dataset/labels/\"+j) as f:\n",
    "        json_object=json.load(f)\n",
    "        for i in range(50):\n",
    "            try:\n",
    "                box.append(json_object['labelingInfo'][i]['box']['location'])\n",
    "            except:\n",
    "                pass\n",
    "    image=Image.open((\"/Users/jbu/Desktop/dataset/labels/\"+j).replace('labels','images').replace('json','jpg'))\n",
    "    width,height=image.size            \n",
    "    for bbox in box:\n",
    "        bbox=bbox[0]\n",
    "        with open((\"/Users/jbu/Desktop/dataset/labels/\"+j).replace('json','txt'),'a') as f:\n",
    "            if 'C_A2' in j:\n",
    "                clss=0\n",
    "            if 'C_A4' in j:\n",
    "                clss=1\n",
    "            if 'C_A6' in j:\n",
    "                clss=2 \n",
    "            f.write(f\"{clss} {(bbox['x']+bbox['width']/2)/width} {(bbox['y']+bbox['height']/2)/height} {(bbox['width'])/width} {(bbox['height'])/height}\\n\")\n",
    "    os.remove(\"/Users/jbu/Desktop/dataset/labels/\"+j)        "
   ]
  },
  {
   "cell_type": "code",
   "execution_count": 5,
   "id": "5bf4904e-790f-42dc-9b5b-805aeda49451",
   "metadata": {},
   "outputs": [],
   "source": [
    "os.makedirs(\"/Users/jbu/Desktop/dataset/images/train\",exist_ok=True)\n",
    "os.makedirs(\"/Users/jbu/Desktop/dataset/images/val\",exist_ok=True)\n",
    "os.makedirs(\"/Users/jbu/Desktop/dataset/labels/train\",exist_ok=True)\n",
    "os.makedirs(\"/Users/jbu/Desktop/dataset/labels/val\",exist_ok=True)"
   ]
  },
  {
   "cell_type": "code",
   "execution_count": 7,
   "id": "c58dc903-9a14-4c13-86ae-2951e370a4f2",
   "metadata": {},
   "outputs": [],
   "source": [
    "C_A2_jpg=[]\n",
    "C_A4_jpg=[]\n",
    "C_A6_jpg=[]\n",
    "C_A2_box=[]\n",
    "C_A4_box=[]\n",
    "C_A6_box=[]\n",
    "\n",
    "for name in os.listdir(\"/Users/jbu/Desktop/dataset/images\"):\n",
    "    if \"C_A2\" in name:\n",
    "        C_A2_jpg.append(name)\n",
    "for name in os.listdir(\"/Users/jbu/Desktop/dataset/images\"):\n",
    "    if \"C_A4\" in name:\n",
    "        C_A4_jpg.append(name)\n",
    "for name in os.listdir(\"/Users/jbu/Desktop/dataset/images\"):\n",
    "    if \"C_A6\" in name:\n",
    "        C_A6_jpg.append(name)\n",
    "for name in os.listdir(\"/Users/jbu/Desktop/dataset/labels\"):\n",
    "    if \"C_A2\" in name:\n",
    "        C_A2_box.append(name)\n",
    "for name in os.listdir(\"/Users/jbu/Desktop/dataset/labels\"):\n",
    "    if \"C_A4\" in name:\n",
    "        C_A4_box.append(name)\n",
    "for name in os.listdir(\"/Users/jbu/Desktop/dataset/labels\"):\n",
    "    if \"C_A6\" in name:\n",
    "        C_A6_box.append(name)        "
   ]
  },
  {
   "cell_type": "code",
   "execution_count": 9,
   "id": "a553f39f-4f8b-414f-9d90-2b4b461f3efb",
   "metadata": {},
   "outputs": [],
   "source": [
    "# 레이블당 이미지 개수 설정\n",
    "size=500\n",
    "\n",
    "C_A2_jpg=sorted(C_A2_jpg)[:size]\n",
    "C_A4_jpg=sorted(C_A4_jpg)[:size]\n",
    "C_A6_jpg=sorted(C_A6_jpg)[:size]\n",
    "C_A2_box=sorted(C_A2_box)[:size]\n",
    "C_A4_box=sorted(C_A4_box)[:size]\n",
    "C_A6_box=sorted(C_A6_box)[:size]\n",
    "\n",
    "# train/val 7:3\n",
    "C_A2_jpg_train   = sorted(C_A2_jpg[:round(0.7*len(C_A2_jpg))])\n",
    "C_A4_jpg_train   = sorted(C_A4_jpg[:round(0.7*len(C_A4_jpg))])\n",
    "C_A6_jpg_train   = sorted(C_A6_jpg[:round(0.7*len(C_A6_jpg))])\n",
    "C_A2_jpg_val     = sorted(C_A2_jpg[round(0.7*len(C_A2_jpg)):])\n",
    "C_A4_jpg_val     = sorted(C_A4_jpg[round(0.7*len(C_A4_jpg)):])\n",
    "C_A6_jpg_val     = sorted(C_A6_jpg[round(0.7*len(C_A6_jpg)):])\n",
    "C_A2_box_train   = sorted(C_A2_box[:round(0.7*len(C_A2_box))])\n",
    "C_A4_box_train   = sorted(C_A4_box[:round(0.7*len(C_A4_box))])\n",
    "C_A6_box_train   = sorted(C_A6_box[:round(0.7*len(C_A6_box))])\n",
    "C_A2_box_val     = sorted(C_A2_box[round(0.7*len(C_A2_box)):])\n",
    "C_A4_box_val     = sorted(C_A4_box[round(0.7*len(C_A4_box)):])\n",
    "C_A6_box_val     = sorted(C_A6_box[round(0.7*len(C_A6_box)):])"
   ]
  },
  {
   "cell_type": "code",
   "execution_count": 11,
   "id": "b05474fa-cce0-4327-adf8-4338ab19e5aa",
   "metadata": {},
   "outputs": [],
   "source": [
    "for name in C_A2_jpg_train:\n",
    "    shutil.copyfile(\"/Users/jbu/Desktop/dataset/images/\"+name,\"/Users/jbu/Desktop/dataset/images/train/\"+name)\n",
    "for name in C_A4_jpg_train:\n",
    "    shutil.copyfile(\"/Users/jbu/Desktop/dataset/images/\"+name,\"/Users/jbu/Desktop/dataset/images/train/\"+name)\n",
    "for name in C_A6_jpg_train:\n",
    "    shutil.copyfile(\"/Users/jbu/Desktop/dataset/images/\"+name,\"/Users/jbu/Desktop/dataset/images/train/\"+name)\n",
    "for name in C_A2_jpg_val:\n",
    "    shutil.copyfile(\"/Users/jbu/Desktop/dataset/images/\"+name,\"/Users/jbu/Desktop/dataset/images/val/\"+name)\n",
    "for name in C_A4_jpg_val:\n",
    "    shutil.copyfile(\"/Users/jbu/Desktop/dataset/images/\"+name,\"/Users/jbu/Desktop/dataset/images/val/\"+name)\n",
    "for name in C_A6_jpg_val:\n",
    "    shutil.copyfile(\"/Users/jbu/Desktop/dataset/images/\"+name,\"/Users/jbu/Desktop/dataset/images/val/\"+name)\n",
    "for name in C_A2_box_train:\n",
    "    shutil.copyfile(\"/Users/jbu/Desktop/dataset/labels/\"+name,\"/Users/jbu/Desktop/dataset/labels/train/\"+name)\n",
    "for name in C_A4_box_train:\n",
    "    shutil.copyfile(\"/Users/jbu/Desktop/dataset/labels/\"+name,\"/Users/jbu/Desktop/dataset/labels/train/\"+name)\n",
    "for name in C_A6_box_train:\n",
    "    shutil.copyfile(\"/Users/jbu/Desktop/dataset/labels/\"+name,\"/Users/jbu/Desktop/dataset/labels/train/\"+name)\n",
    "for name in C_A2_box_val:\n",
    "    shutil.copyfile(\"/Users/jbu/Desktop/dataset/labels/\"+name,\"/Users/jbu/Desktop/dataset/labels/val/\"+name)\n",
    "for name in C_A4_box_val:\n",
    "    shutil.copyfile(\"/Users/jbu/Desktop/dataset/labels/\"+name,\"/Users/jbu/Desktop/dataset/labels/val/\"+name)\n",
    "for name in C_A6_box_val:\n",
    "    shutil.copyfile(\"/Users/jbu/Desktop/dataset/labels/\"+name,\"/Users/jbu/Desktop/dataset/labels/val/\"+name)    "
   ]
  },
  {
   "cell_type": "code",
   "execution_count": null,
   "id": "74c94274-4a06-44d6-a27f-bd4db04ac7d4",
   "metadata": {},
   "outputs": [],
   "source": [
    "# dataset 번호 붙이기"
   ]
  }
 ],
 "metadata": {
  "kernelspec": {
   "display_name": "Python 3 (ipykernel)",
   "language": "python",
   "name": "python3"
  },
  "language_info": {
   "codemirror_mode": {
    "name": "ipython",
    "version": 3
   },
   "file_extension": ".py",
   "mimetype": "text/x-python",
   "name": "python",
   "nbconvert_exporter": "python",
   "pygments_lexer": "ipython3",
   "version": "3.11.7"
  }
 },
 "nbformat": 4,
 "nbformat_minor": 5
}
